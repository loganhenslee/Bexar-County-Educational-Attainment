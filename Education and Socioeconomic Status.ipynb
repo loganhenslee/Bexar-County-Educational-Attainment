{
 "cells": [
  {
   "cell_type": "markdown",
   "metadata": {},
   "source": [
    "# Education and Socioeconomic Status\n",
    "\n",
    "   This project is meant to give insight into educational attainment outcomes for Bexar County, TX. using python programming language and gives the option to break down Bexar education population to zip code geographies. Results are visualized in the Tableau link. \n",
    "   \n",
    "   The reason we would want to identify areas of Bexar County with low educational outcomes is because education can be used as an indicator of low socioeconomic status. \n",
    "   \n",
    "   Socioeconomic status depends on a combination of variables, including occupation, education, income, wealth, and place of residence. In an article from the Journal of Epidemiology and Community Health, titled “Indicators of socioeconomic position (part 1), education can be used as generic measure of Socioeconomic Position (SEP) because, “Education captures the transition from parents' (received) SEP to adulthood (own) SEP and it is also a strong determinant of future employment and income. 2,17 It reflects material, intellectual, and other resources of the family of origin, begins at early ages, is influenced by access to and performance in primary and secondary school and reaches final attainment in young adulthood for most people. Therefore it captures the long term influences of both early life circumstances on adult health, as well as the influence of adult resources (for example, through employment status) on health” (Galobardes, 2006). \n",
    "   \n",
    "   Not only does education indicate a persons or family's ability to attain physical health by way of opportunity and resources, but, “...knowledge and skills attained through education may affect a person's cognitive functioning, make them more receptive to health education messages, or more able to communicate with and access appropriate health services” (Galobardes, 2006). \n",
    "   \n",
    "   Both statements concerning low educational outcomes, in relation to low health outcomes, and ultimately socioeconomic positioning, are backed by a study published in the articles from the American Journal of Public Health, titled “Education and Diabetes in a Racially and Ethnically Diverse Population”. In this study, data from the National Health Interview Survey was used to, “ examine the association between education and the prevalence of diabetes in US adults and whether this relation differs by race/ethnicity” (Borrell, 2006).  The study found that, “Educational attainment was inversely associated with the prevalence of diabetes. Individuals with less than a high-school diploma were 1.6 (95% confidence interval [CI]=1.4, 1.8) times more likely to have diabetes than those with at least a bachelor’s degree” (Borrell, 2006).  \n",
    "   \n",
    "   Thus, low education increases the chance of low health outcomes, and poor health can lead to poor education, creating a cycle of poor outcomes overall. Knowing the general residency of those with low educational attainment in our communities can be insightful for health care providers or the government when creating policies, programs, and services that could help combat such a cycle. This project aims to show education attainment levels by Bexar County by zip codes.\n",
    "   \n",
    "   \n",
    "#                                            Resources\n",
    "\n",
    "Borrell, L. N., Dallo, F. J., & White, K. (2006). Education and diabetes in a racially and ethnically diverse population. American journal of public health, 96(9), 1637–1642. https://doi.org/10.2105/AJPH.2005.072884\n",
    "\n",
    "\n",
    "Galobardes, B., Shaw, M., Lawlor, D. A., Lynch, J. W., & Davey Smith, G. (2006). Indicators of socioeconomic position (part 1). Journal of epidemiology and community health, 60(1), 7–12. https://doi.org/10.1136/jech.2004.023531"
   ]
  }
 ],
 "metadata": {
  "kernelspec": {
   "display_name": "Python 3",
   "language": "python",
   "name": "python3"
  },
  "language_info": {
   "codemirror_mode": {
    "name": "ipython",
    "version": 3
   },
   "file_extension": ".py",
   "mimetype": "text/x-python",
   "name": "python",
   "nbconvert_exporter": "python",
   "pygments_lexer": "ipython3",
   "version": "3.7.6"
  }
 },
 "nbformat": 4,
 "nbformat_minor": 4
}
